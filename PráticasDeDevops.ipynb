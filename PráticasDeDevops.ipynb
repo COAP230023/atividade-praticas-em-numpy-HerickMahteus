{
  "nbformat": 4,
  "nbformat_minor": 0,
  "metadata": {
    "colab": {
      "provenance": [],
      "authorship_tag": "ABX9TyMIQe+BY5lpoadHTD3OT8e+",
      "include_colab_link": true
    },
    "kernelspec": {
      "name": "python3",
      "display_name": "Python 3"
    },
    "language_info": {
      "name": "python"
    }
  },
  "cells": [
    {
      "cell_type": "markdown",
      "metadata": {
        "id": "view-in-github",
        "colab_type": "text"
      },
      "source": [
        "<a href=\"https://colab.research.google.com/github/COAP230023/atividade-praticas-em-numpy-HerickMahteus/blob/main/Pr%C3%A1ticasDeDevops.ipynb\" target=\"_parent\"><img src=\"https://colab.research.google.com/assets/colab-badge.svg\" alt=\"Open In Colab\"/></a>"
      ]
    },
    {
      "cell_type": "markdown",
      "source": [
        "# Treino de NumPy — 42 exercícios hands-on\n",
        "\n",
        "**Objetivo:** praticar manipulação de arrays NumPy (criação, slicing, broadcasting, álgebra linear, estatística, datas, strides).\n",
        "**Regras:** use **apenas** NumPy (`import numpy as np`). Para reprodutibilidade, prefira `np.random.default_rng(seed)`.\n"
      ],
      "metadata": {
        "id": "RSMr8cpoMB05"
      }
    },
    {
      "cell_type": "markdown",
      "source": [
        "## Fáceis (24)"
      ],
      "metadata": {
        "id": "qnRurIj5MEF5"
      }
    },
    {
      "cell_type": "markdown",
      "source": [
        "### 1. Vetor de zeros  _(fácil)_\n",
        "\n",
        "Crie um array 1D com 10 zeros usando NumPy e mostre o dtype e o shape."
      ],
      "metadata": {
        "id": "mGc6k-Fi_94S"
      }
    },
    {
      "cell_type": "code",
      "source": [
        "import numpy as np\n",
        "\n",
        "print(np.zeros(10))\n",
        "print(np.zeros(10).dtype)\n",
        "print(np.zeros(10).shape)"
      ],
      "metadata": {
        "colab": {
          "base_uri": "https://localhost:8080/"
        },
        "id": "mA0-MU4zBqXG",
        "outputId": "16239022-34d5-4fba-c425-6afb7cc8271e"
      },
      "execution_count": null,
      "outputs": [
        {
          "output_type": "stream",
          "name": "stdout",
          "text": [
            "[0. 0. 0. 0. 0. 0. 0. 0. 0. 0.]\n",
            "float64\n",
            "(10,)\n"
          ]
        }
      ]
    },
    {
      "cell_type": "markdown",
      "source": [
        "### 2. Vetor de uns  _(fácil)_\n",
        "\n",
        "Crie um array 1D com 10 uns e transforme-o em float64.\n"
      ],
      "metadata": {
        "id": "4EaoEvQCAaKO"
      }
    },
    {
      "cell_type": "code",
      "source": [
        "import numpy as np\n",
        "\n",
        "print(np.ones(10, dtype=np.float64))"
      ],
      "metadata": {
        "colab": {
          "base_uri": "https://localhost:8080/"
        },
        "id": "GjVoAzbKB5SG",
        "outputId": "7a1ca089-e094-485b-ddd5-b48752770501"
      },
      "execution_count": null,
      "outputs": [
        {
          "output_type": "stream",
          "name": "stdout",
          "text": [
            "[1. 1. 1. 1. 1. 1. 1. 1. 1. 1.]\n"
          ]
        }
      ]
    },
    {
      "cell_type": "markdown",
      "source": [
        "### 3. Sequência 0–9  _(fácil)_\n",
        "\n",
        "Crie um array com os inteiros de 0 a 9 (inclusive)."
      ],
      "metadata": {
        "id": "B8tqqZfICenD"
      }
    },
    {
      "cell_type": "code",
      "source": [
        "import numpy as np\n",
        "\n",
        "print(np.arange(10))"
      ],
      "metadata": {
        "colab": {
          "base_uri": "https://localhost:8080/"
        },
        "id": "rbPuWmSQCjlU",
        "outputId": "5cce203f-ba47-44b8-c9f1-9b8d7cf1d3a6"
      },
      "execution_count": null,
      "outputs": [
        {
          "output_type": "stream",
          "name": "stdout",
          "text": [
            "[0 1 2 3 4 5 6 7 8 9]\n"
          ]
        }
      ]
    },
    {
      "cell_type": "markdown",
      "source": [
        "### 4. Matriz 3×3 com 0…8  _(fácil)_\n",
        "\n",
        "Crie um array 3×3 com os valores 0…8 (reshape)."
      ],
      "metadata": {
        "id": "qKrX3d01C9xe"
      }
    },
    {
      "cell_type": "code",
      "source": [
        "import numpy as np\n",
        "\n",
        "print(np.arange(9).reshape(3, 3))"
      ],
      "metadata": {
        "colab": {
          "base_uri": "https://localhost:8080/"
        },
        "id": "Vi-A4_DyDGaX",
        "outputId": "9f49b674-3865-46f1-ee44-0d57f9dae0e4"
      },
      "execution_count": null,
      "outputs": [
        {
          "output_type": "stream",
          "name": "stdout",
          "text": [
            "[[0 1 2]\n",
            " [3 4 5]\n",
            " [6 7 8]]\n"
          ]
        }
      ]
    },
    {
      "cell_type": "markdown",
      "source": [
        "### 5. Índices não zero  _(fácil)_\n",
        "\n",
        "Dado o vetor `v = np.array([1,2,0,0,4,0])`, encontre os índices dos elementos não nulos."
      ],
      "metadata": {
        "id": "B1BcJpBVDcZx"
      }
    },
    {
      "cell_type": "code",
      "source": [
        "import numpy as np\n",
        "\n",
        "print(np.nonzero(np.array([1, 2, 0, 0, 4, 0])))"
      ],
      "metadata": {
        "colab": {
          "base_uri": "https://localhost:8080/"
        },
        "id": "pMzCT5ujDmCh",
        "outputId": "3d28bf61-d2c4-44c8-be17-70ac503abb9c"
      },
      "execution_count": null,
      "outputs": [
        {
          "output_type": "stream",
          "name": "stdout",
          "text": [
            "(array([0, 1, 4]),)\n"
          ]
        }
      ]
    },
    {
      "cell_type": "markdown",
      "source": [
        "### 6. Linspace  _(fácil)_\n",
        "\n",
        "Crie um vetor de 12 pontos igualmente espaçados no intervalo [0, 1]."
      ],
      "metadata": {
        "id": "BMSad2WBE1un"
      }
    },
    {
      "cell_type": "code",
      "source": [
        "import numpy as np\n",
        "\n",
        "print(np.linspace(0, 1, 12))"
      ],
      "metadata": {
        "colab": {
          "base_uri": "https://localhost:8080/"
        },
        "id": "YXcqg8IxE_Wi",
        "outputId": "533dc00d-651a-4945-ead2-d728d058ae52"
      },
      "execution_count": null,
      "outputs": [
        {
          "output_type": "stream",
          "name": "stdout",
          "text": [
            "[0.         0.09090909 0.18181818 0.27272727 0.36363636 0.45454545\n",
            " 0.54545455 0.63636364 0.72727273 0.81818182 0.90909091 1.        ]\n"
          ]
        }
      ]
    },
    {
      "cell_type": "markdown",
      "source": [
        "### 7. Identidade 5×5  _(fácil)_\n",
        "\n",
        "Crie uma matriz identidade de ordem 5."
      ],
      "metadata": {
        "id": "DdMVwClmFdIi"
      }
    },
    {
      "cell_type": "code",
      "source": [
        "import numpy as np\n",
        "\n",
        "print(np.eye(5))"
      ],
      "metadata": {
        "colab": {
          "base_uri": "https://localhost:8080/"
        },
        "id": "MCW9x3uYFhiD",
        "outputId": "f908b81d-8c99-4eb2-e624-07e4164f0054"
      },
      "execution_count": null,
      "outputs": [
        {
          "output_type": "stream",
          "name": "stdout",
          "text": [
            "[[1. 0. 0. 0. 0.]\n",
            " [0. 1. 0. 0. 0.]\n",
            " [0. 0. 1. 0. 0.]\n",
            " [0. 0. 0. 1. 0.]\n",
            " [0. 0. 0. 0. 1.]]\n"
          ]
        }
      ]
    },
    {
      "cell_type": "markdown",
      "source": [
        "### 8. Aleatórios 3×3×3  _(fácil)_\n",
        "\n",
        "Gere um array 3×3×3 com valores aleatórios uniformes em [0,1). Use `np.random.default_rng(42)`.\n"
      ],
      "metadata": {
        "id": "y-1_QHqHGEm3"
      }
    },
    {
      "cell_type": "code",
      "source": [
        "import numpy as np\n",
        "\n",
        "print(np.random.default_rng(42).random((3, 3, 3)))"
      ],
      "metadata": {
        "colab": {
          "base_uri": "https://localhost:8080/"
        },
        "id": "dr7FSaj6GLX_",
        "outputId": "d0ffd757-88a3-4488-8b66-7be39f410378"
      },
      "execution_count": null,
      "outputs": [
        {
          "output_type": "stream",
          "name": "stdout",
          "text": [
            "[[[0.77395605 0.43887844 0.85859792]\n",
            "  [0.69736803 0.09417735 0.97562235]\n",
            "  [0.7611397  0.78606431 0.12811363]]\n",
            "\n",
            " [[0.45038594 0.37079802 0.92676499]\n",
            "  [0.64386512 0.82276161 0.4434142 ]\n",
            "  [0.22723872 0.55458479 0.06381726]]\n",
            "\n",
            " [[0.82763117 0.6316644  0.75808774]\n",
            "  [0.35452597 0.97069802 0.89312112]\n",
            "  [0.7783835  0.19463871 0.466721  ]]]\n"
          ]
        }
      ]
    },
    {
      "cell_type": "markdown",
      "source": [
        "### 9. Min/Max  _(fácil)_\n",
        "\n",
        "Crie uma matriz 10×10 de aleatórios uniformes e mostre o valor mínimo e máximo."
      ],
      "metadata": {
        "id": "dgYI6jjdHXiE"
      }
    },
    {
      "cell_type": "code",
      "source": [
        "import numpy as np\n",
        "\n",
        "random_matrix = np.random.rand(10, 10)\n",
        "print(\"Minimum value:\", random_matrix.min())\n",
        "print(\"Maximum value:\", random_matrix.max())"
      ],
      "metadata": {
        "colab": {
          "base_uri": "https://localhost:8080/"
        },
        "id": "9Fd1mwy9HcHl",
        "outputId": "23e81e1c-6d18-4dba-e543-8f2f8db2d0bd"
      },
      "execution_count": null,
      "outputs": [
        {
          "output_type": "stream",
          "name": "stdout",
          "text": [
            "Minimum value: 0.006147144838685392\n",
            "Maximum value: 0.9884966484180111\n"
          ]
        }
      ]
    },
    {
      "cell_type": "markdown",
      "source": [
        "### 10. Padronização 1D  _(fácil)_\n",
        "\n",
        "Dado `x = [1,2,3,4,5]`, crie um array float e normalize para média 0 e desvio 1."
      ],
      "metadata": {
        "id": "XANAHo2mHqcV"
      }
    },
    {
      "cell_type": "code",
      "source": [
        "import numpy as np\n",
        "\n",
        "x = np.array([1, 2, 3, 4, 5], dtype=np.float64)\n",
        "mean = np.mean(x)\n",
        "std_dev = np.std(x)\n",
        "normalized_x = (x - mean) / std_dev\n",
        "print(normalized_x)"
      ],
      "metadata": {
        "colab": {
          "base_uri": "https://localhost:8080/"
        },
        "id": "yG0cRDk2Hug1",
        "outputId": "9314dc84-3476-4271-bbbe-43878ded6e2f"
      },
      "execution_count": null,
      "outputs": [
        {
          "output_type": "stream",
          "name": "stdout",
          "text": [
            "[-1.41421356 -0.70710678  0.          0.70710678  1.41421356]\n"
          ]
        }
      ]
    },
    {
      "cell_type": "markdown",
      "source": [
        "### 11. Conversão de tipos  _(fácil)_\n",
        "\n",
        "Converta `np.array([1,2,3])` (int32) para float32 e depois para int64."
      ],
      "metadata": {
        "id": "9Esjh4nOJhod"
      }
    },
    {
      "cell_type": "code",
      "source": [
        "import numpy as np\n",
        "\n",
        "int32_array = np.array([1, 2, 3], dtype=np.int32)\n",
        "float32_array = int32_array.astype(np.float32)\n",
        "int64_array = float32_array.astype(np.int64)\n",
        "\n",
        "print(\"Original array (int32):\", int32_array, int32_array.dtype)\n",
        "print(\"Converted to float32:\", float32_array, float32_array.dtype)\n",
        "print(\"Converted to int64:\", int64_array, int64_array.dtype)"
      ],
      "metadata": {
        "colab": {
          "base_uri": "https://localhost:8080/"
        },
        "id": "jkdexgEvJky-",
        "outputId": "d2548107-2d52-418c-831d-90e54e60bef6"
      },
      "execution_count": null,
      "outputs": [
        {
          "output_type": "stream",
          "name": "stdout",
          "text": [
            "Original array (int32): [1 2 3] int32\n",
            "Converted to float32: [1. 2. 3.] float32\n",
            "Converted to int64: [1 2 3] int64\n"
          ]
        }
      ]
    },
    {
      "cell_type": "markdown",
      "source": [
        "### 12. Clipping  _(fácil)_\n",
        "\n",
        "Dado `a = [2, 5, 7, 1, 9]`, limite os valores ao intervalo [0,5] (valores acima de 5 tornam-se 5)."
      ],
      "metadata": {
        "id": "ID-y35TfJte3"
      }
    },
    {
      "cell_type": "code",
      "source": [
        "import numpy as np\n",
        "\n",
        "a = np.array([2, 5, 7, 1, 9])\n",
        "clipped_array = np.clip(a, 0, 5)\n",
        "print(clipped_array)"
      ],
      "metadata": {
        "colab": {
          "base_uri": "https://localhost:8080/"
        },
        "id": "8JN_6KHLJxcu",
        "outputId": "a6f6ccfe-d66b-4955-d2c6-06a46a3e67ec"
      },
      "execution_count": null,
      "outputs": [
        {
          "output_type": "stream",
          "name": "stdout",
          "text": [
            "[2 5 5 1 5]\n"
          ]
        }
      ]
    },
    {
      "cell_type": "markdown",
      "source": [
        "### 13. Inversão  _(fácil)_\n",
        "\n",
        "Crie um vetor de 0 a 9 e inverta a ordem (sem usar `[::-1]`)."
      ],
      "metadata": {
        "id": "QzKpx5cWKUfx"
      }
    },
    {
      "cell_type": "code",
      "source": [
        "import numpy as np\n",
        "\n",
        "vector = np.arange(10)\n",
        "reversed_vector = np.flip(vector)\n",
        "print(reversed_vector)"
      ],
      "metadata": {
        "colab": {
          "base_uri": "https://localhost:8080/"
        },
        "id": "FrlcZABnKf2j",
        "outputId": "74ba07fa-ba9d-4e02-e1c9-955fcd454370"
      },
      "execution_count": null,
      "outputs": [
        {
          "output_type": "stream",
          "name": "stdout",
          "text": [
            "[9 8 7 6 5 4 3 2 1 0]\n"
          ]
        }
      ]
    },
    {
      "cell_type": "markdown",
      "source": [
        "### 14. Empilhamento  _(fácil)_\n",
        "\n",
        "Dado `a = [1,2,3]` e `b = [4,5,6]`, empilhe horizontal e verticalmente."
      ],
      "metadata": {
        "id": "QTWEWB6MKnaa"
      }
    },
    {
      "cell_type": "code",
      "source": [
        "import numpy as np\n",
        "\n",
        "a = np.array([1, 2, 3])\n",
        "b = np.array([4, 5, 6])\n",
        "\n",
        "horizontal_stack = np.hstack((a, b))\n",
        "vertical_stack = np.vstack((a, b))\n",
        "\n",
        "print(\"Horizontal stacking:\", horizontal_stack)\n",
        "print(\"Vertical stacking:\", vertical_stack)"
      ],
      "metadata": {
        "colab": {
          "base_uri": "https://localhost:8080/"
        },
        "id": "mGYPz7ASKsWy",
        "outputId": "5c37da50-8e1a-4190-ec57-538030ebc240"
      },
      "execution_count": null,
      "outputs": [
        {
          "output_type": "stream",
          "name": "stdout",
          "text": [
            "Horizontal stacking: [1 2 3 4 5 6]\n",
            "Vertical stacking: [[1 2 3]\n",
            " [4 5 6]]\n"
          ]
        }
      ]
    },
    {
      "cell_type": "markdown",
      "source": [
        "### 15. Diagonal  _(fácil)_\n",
        "\n",
        "Crie uma matriz 4×4 com a diagonal principal igual a 5 e as demais entradas zero."
      ],
      "metadata": {
        "id": "WGc_qd2jK2bk"
      }
    },
    {
      "cell_type": "code",
      "source": [
        "import numpy as np\n",
        "\n",
        "diagonal_matrix = np.eye(4) * 5\n",
        "print(diagonal_matrix)"
      ],
      "metadata": {
        "colab": {
          "base_uri": "https://localhost:8080/"
        },
        "id": "Ne1rPfbdK5T7",
        "outputId": "5ea32aa8-d240-4415-8bcc-1273fe3b46e3"
      },
      "execution_count": null,
      "outputs": [
        {
          "output_type": "stream",
          "name": "stdout",
          "text": [
            "[[5. 0. 0. 0.]\n",
            " [0. 5. 0. 0.]\n",
            " [0. 0. 5. 0.]\n",
            " [0. 0. 0. 5.]]\n"
          ]
        }
      ]
    },
    {
      "cell_type": "markdown",
      "source": [
        "### 16. Somas por eixo  _(fácil)_\n",
        "\n",
        "Para a matriz `A = np.arange(12).reshape(3,4)`, calcule a soma por linhas e por colunas."
      ],
      "metadata": {
        "id": "3qhLRPTrLK2O"
      }
    },
    {
      "cell_type": "code",
      "source": [
        "import numpy as np\n",
        "\n",
        "A = np.arange(12).reshape(3, 4)\n",
        "\n",
        "row_sums = A.sum(axis=1)\n",
        "col_sums = A.sum(axis=0)\n",
        "\n",
        "print(\"Matrix A:\\n\", A)\n",
        "print(\"\\nSum of rows:\", row_sums)\n",
        "print(\"Sum of columns:\", col_sums)"
      ],
      "metadata": {
        "colab": {
          "base_uri": "https://localhost:8080/"
        },
        "id": "hxFc6MYBLQJN",
        "outputId": "0779d3a9-8958-498a-e6d9-7ba0a063b062"
      },
      "execution_count": null,
      "outputs": [
        {
          "output_type": "stream",
          "name": "stdout",
          "text": [
            "Matrix A:\n",
            " [[ 0  1  2  3]\n",
            " [ 4  5  6  7]\n",
            " [ 8  9 10 11]]\n",
            "\n",
            "Sum of rows: [ 6 22 38]\n",
            "Sum of columns: [12 15 18 21]\n"
          ]
        }
      ]
    },
    {
      "cell_type": "markdown",
      "source": [
        "### 17. Frequências inteiras  _(fácil)_\n",
        "\n",
        "Gere 100 inteiros aleatórios em [0,9] e conte as frequências de cada valor (0 a 9)."
      ],
      "metadata": {
        "id": "5hY_jtRMLa0n"
      }
    },
    {
      "cell_type": "code",
      "source": [
        "import numpy as np\n",
        "\n",
        "random_integers = np.random.randint(0, 10, 100)\n",
        "frequencies = np.bincount(random_integers, minlength=10)\n",
        "print(\"Random integers:\", random_integers)\n",
        "print(\"Frequencies of values 0-9:\", frequencies)"
      ],
      "metadata": {
        "colab": {
          "base_uri": "https://localhost:8080/"
        },
        "id": "om4leLNLLfD2",
        "outputId": "8e03f416-5d84-4da5-b1fc-35b58d7a1796"
      },
      "execution_count": null,
      "outputs": [
        {
          "output_type": "stream",
          "name": "stdout",
          "text": [
            "Random integers: [9 0 0 3 3 5 9 2 7 6 0 0 5 2 1 5 6 2 3 5 5 7 3 3 0 0 7 3 6 2 7 5 2 4 9 2 1\n",
            " 3 4 9 7 2 5 1 8 6 3 0 3 9 3 6 7 4 8 7 3 4 3 2 9 6 4 7 8 0 9 7 4 1 2 7 9 5\n",
            " 1 4 5 3 6 3 4 8 3 0 5 4 1 1 6 1 1 4 0 3 7 8 0 9 8 7]\n",
            "Frequencies of values 0-9: [11  9  9 16 10 10  8 12  6  9]\n"
          ]
        }
      ]
    },
    {
      "cell_type": "markdown",
      "source": [
        "### 18. Slicing com passo  _(fácil)_\n",
        "\n",
        "Dado `v = np.arange(20)`, selecione cada 3º elemento começando do índice 1."
      ],
      "metadata": {
        "id": "ayvChYfSLntf"
      }
    },
    {
      "cell_type": "code",
      "source": [
        "import numpy as np\n",
        "\n",
        "v = np.arange(20)\n",
        "selected_elements = v[1::3]\n",
        "print(selected_elements)"
      ],
      "metadata": {
        "colab": {
          "base_uri": "https://localhost:8080/"
        },
        "id": "UV3T_v__LvI_",
        "outputId": "cf6e919c-5f1e-4aa9-fe31-0994ff1e3a94"
      },
      "execution_count": null,
      "outputs": [
        {
          "output_type": "stream",
          "name": "stdout",
          "text": [
            "[ 1  4  7 10 13 16 19]\n"
          ]
        }
      ]
    },
    {
      "cell_type": "markdown",
      "source": [
        "### 19. Máscara booleana  _(fácil)_\n",
        "\n",
        "Crie uma máscara para números pares de `0…19` e use-a para filtrar o vetor."
      ],
      "metadata": {
        "id": "SOkQ4U3ZMKAI"
      }
    },
    {
      "cell_type": "code",
      "source": [
        "import numpy as np\n",
        "\n",
        "vector = np.arange(20)\n",
        "even_mask = (vector % 2 == 0)\n",
        "filtered_vector = vector[even_mask]\n",
        "print(\"Original vector:\", vector)\n",
        "print(\"Even mask:\", even_mask)\n",
        "print(\"Filtered vector (even numbers):\", filtered_vector)"
      ],
      "metadata": {
        "colab": {
          "base_uri": "https://localhost:8080/"
        },
        "id": "-iaV7s0DMOA5",
        "outputId": "07e1b1f9-e8b4-4c4a-937b-f0e5e31d8974"
      },
      "execution_count": null,
      "outputs": [
        {
          "output_type": "stream",
          "name": "stdout",
          "text": [
            "Original vector: [ 0  1  2  3  4  5  6  7  8  9 10 11 12 13 14 15 16 17 18 19]\n",
            "Even mask: [ True False  True False  True False  True False  True False  True False\n",
            "  True False  True False  True False  True False]\n",
            "Filtered vector (even numbers): [ 0  2  4  6  8 10 12 14 16 18]\n"
          ]
        }
      ]
    },
    {
      "cell_type": "markdown",
      "source": [
        "### 20. Lista de listas → array  _(fácil)_\n",
        "\n",
        "Converta `[[1,2,3],[4,5,6]]` em `ndarray`, verifique `shape` e `dtype`."
      ],
      "metadata": {
        "id": "DW2yDAEVMX7C"
      }
    },
    {
      "cell_type": "code",
      "source": [
        "import numpy as np\n",
        "\n",
        "list_of_lists = [[1, 2, 3], [4, 5, 6]]\n",
        "numpy_array = np.array(list_of_lists)\n",
        "\n",
        "print(\"NumPy array:\\n\", numpy_array)\n",
        "print(\"Shape:\", numpy_array.shape)\n",
        "print(\"Dtype:\", numpy_array.dtype)"
      ],
      "metadata": {
        "colab": {
          "base_uri": "https://localhost:8080/"
        },
        "id": "a8PdZg-eMiZz",
        "outputId": "48298637-07f2-4838-ce80-c62a11a7f989"
      },
      "execution_count": null,
      "outputs": [
        {
          "output_type": "stream",
          "name": "stdout",
          "text": [
            "NumPy array:\n",
            " [[1 2 3]\n",
            " [4 5 6]]\n",
            "Shape: (2, 3)\n",
            "Dtype: int64\n"
          ]
        }
      ]
    },
    {
      "cell_type": "markdown",
      "source": [
        "### 21. Datas básicas  _(fácil)_\n",
        "\n",
        "Crie um array de datas diárias de 2025-01-01 a 2025-01-07 (inclusive)."
      ],
      "metadata": {
        "id": "QCYnLX4OMt9k"
      }
    },
    {
      "cell_type": "code",
      "source": [
        "import numpy as np\n",
        "\n",
        "dates_array = np.arange('2025-01-01', '2025-01-08', dtype='datetime64[D]')\n",
        "print(dates_array)"
      ],
      "metadata": {
        "colab": {
          "base_uri": "https://localhost:8080/"
        },
        "id": "j8ptT4dqMxx2",
        "outputId": "ad0bb710-4009-4aad-f22a-6f33f1436ebb"
      },
      "execution_count": null,
      "outputs": [
        {
          "output_type": "stream",
          "name": "stdout",
          "text": [
            "['2025-01-01' '2025-01-02' '2025-01-03' '2025-01-04' '2025-01-05'\n",
            " '2025-01-06' '2025-01-07']\n"
          ]
        }
      ]
    },
    {
      "cell_type": "markdown",
      "source": [
        "### 22. Centralizar colunas  _(fácil)_\n",
        "\n",
        "Dada `A = np.array([[1.,2.,3.],[4.,5.,6.]])`, subtraia a média de cada coluna."
      ],
      "metadata": {
        "id": "rr6d3L0kM5TG"
      }
    },
    {
      "cell_type": "code",
      "source": [
        "import numpy as np\n",
        "\n",
        "A = np.array([[1., 2., 3.], [4., 5., 6.]])\n",
        "column_means = A.mean(axis=0)\n",
        "A_centered = A - column_means\n",
        "print(A_centered)"
      ],
      "metadata": {
        "colab": {
          "base_uri": "https://localhost:8080/"
        },
        "id": "ifvMuhhWNBUD",
        "outputId": "6bd7bc63-a286-4d77-b212-28a011396d2d"
      },
      "execution_count": null,
      "outputs": [
        {
          "output_type": "stream",
          "name": "stdout",
          "text": [
            "[[-1.5 -1.5 -1.5]\n",
            " [ 1.5  1.5  1.5]]\n"
          ]
        }
      ]
    },
    {
      "cell_type": "markdown",
      "source": [
        "### 23. Produto elemento-a-elemento vs. escalar  _(fácil)_\n",
        "\n",
        "Dadas `a=[1,2,3]` e `b=[4,5,6]`, calcule produto elemento a elemento e o produto escalar.\n"
      ],
      "metadata": {
        "id": "yVMXDtRBM8Eu"
      }
    },
    {
      "cell_type": "code",
      "source": [
        "import numpy as np\n",
        "\n",
        "a = np.array([1, 2, 3])\n",
        "b = np.array([4, 5, 6])\n",
        "\n",
        "element_wise_product = a * b\n",
        "dot_product = np.dot(a, b) # or a @ b\n",
        "\n",
        "print(\"Element-wise product:\", element_wise_product)\n",
        "print(\"Dot product:\", dot_product)"
      ],
      "metadata": {
        "colab": {
          "base_uri": "https://localhost:8080/"
        },
        "id": "Qq2NisFYNG2a",
        "outputId": "a72309d2-736a-4597-b882-c20e7897fcac"
      },
      "execution_count": null,
      "outputs": [
        {
          "output_type": "stream",
          "name": "stdout",
          "text": [
            "Element-wise product: [ 4 10 18]\n",
            "Dot product: 32\n"
          ]
        }
      ]
    },
    {
      "cell_type": "markdown",
      "source": [
        "### 24. Troca de colunas  _(fácil)_\n",
        "\n",
        "Troque as colunas 0 e 2 de `A = np.arange(12).reshape(3,4)` sem copiar (sempre que possível)."
      ],
      "metadata": {
        "id": "LlEZxKaKM-UW"
      }
    },
    {
      "cell_type": "code",
      "source": [
        "import numpy as np\n",
        "\n",
        "A = np.arange(12).reshape(3, 4)\n",
        "print(\"Original matrix:\\n\", A)\n",
        "\n",
        "A[:, [0, 2]] = A[:, [2, 0]]\n",
        "\n",
        "print(\"\\nMatrix after swapping columns 0 and 2:\\n\", A)"
      ],
      "metadata": {
        "colab": {
          "base_uri": "https://localhost:8080/"
        },
        "id": "JY-Fe1m-NNOj",
        "outputId": "a73fff3e-efee-4795-c636-981304a9fa4c"
      },
      "execution_count": null,
      "outputs": [
        {
          "output_type": "stream",
          "name": "stdout",
          "text": [
            "Original matrix:\n",
            " [[ 0  1  2  3]\n",
            " [ 4  5  6  7]\n",
            " [ 8  9 10 11]]\n",
            "\n",
            "Matrix after swapping columns 0 and 2:\n",
            " [[ 2  1  0  3]\n",
            " [ 6  5  4  7]\n",
            " [10  9  8 11]]\n"
          ]
        }
      ]
    },
    {
      "cell_type": "markdown",
      "source": [
        "## Médios (12)"
      ],
      "metadata": {
        "id": "5UyDECmvDUP2"
      }
    },
    {
      "cell_type": "markdown",
      "source": [
        "### 25. Flatten vs. ravel  _(médio)_\n",
        "\n",
        "Mostre a diferença entre `flatten()` (cópia) e `ravel()` (view quando possível). Modifique o resultado de `ravel()` e observe o original."
      ],
      "metadata": {
        "id": "W7MSTEGODV2R"
      }
    },
    {
      "cell_type": "code",
      "source": [
        "import numpy as np\n",
        "\n",
        "a = np.arange(12).reshape(3, 4)\n",
        "print(\"Original array:\\n\", a)\n",
        "\n",
        "# flatten() creates a copy\n",
        "flattened_a = a.flatten()\n",
        "flattened_a[0] = 99\n",
        "print(\"\\nFlattened array (copy) after modification:\", flattened_a)\n",
        "print(\"Original array after modifying flattened array:\\n\", a)\n",
        "\n",
        "# ravel() creates a view if possible\n",
        "raveled_a = a.ravel()\n",
        "raveled_a[0] = 88\n",
        "print(\"\\nRaveled array (view) after modification:\", raveled_a)\n",
        "print(\"Original array after modifying raveled array:\\n\", a)"
      ],
      "metadata": {
        "colab": {
          "base_uri": "https://localhost:8080/"
        },
        "id": "Ky3nr3tsDaI8",
        "outputId": "cd6f046f-5f1a-43b2-d26f-ad8a40d1e42c"
      },
      "execution_count": null,
      "outputs": [
        {
          "output_type": "stream",
          "name": "stdout",
          "text": [
            "Original array:\n",
            " [[ 0  1  2  3]\n",
            " [ 4  5  6  7]\n",
            " [ 8  9 10 11]]\n",
            "\n",
            "Flattened array (copy) after modification: [99  1  2  3  4  5  6  7  8  9 10 11]\n",
            "Original array after modifying flattened array:\n",
            " [[ 0  1  2  3]\n",
            " [ 4  5  6  7]\n",
            " [ 8  9 10 11]]\n",
            "\n",
            "Raveled array (view) after modification: [88  1  2  3  4  5  6  7  8  9 10 11]\n",
            "Original array after modifying raveled array:\n",
            " [[88  1  2  3]\n",
            " [ 4  5  6  7]\n",
            " [ 8  9 10 11]]\n"
          ]
        }
      ]
    },
    {
      "cell_type": "markdown",
      "source": [
        "### 26. Tabuleiro 8×8  _(médio)_\n",
        "\n",
        "Crie uma matriz 8×8 com padrão de tabuleiro (0 e 1 alternados).\n"
      ],
      "metadata": {
        "id": "dGEh7dd9DpbR"
      }
    },
    {
      "cell_type": "code",
      "source": [
        "import numpy as np\n",
        "\n",
        "chessboard = np.zeros((8, 8), dtype=int)\n",
        "chessboard[1::2, ::2] = 1\n",
        "chessboard[::2, 1::2] = 1\n",
        "\n",
        "print(chessboard)"
      ],
      "metadata": {
        "colab": {
          "base_uri": "https://localhost:8080/"
        },
        "id": "f_i0MU9zDtDb",
        "outputId": "81ca8e62-6655-445c-d610-9b20be6c52c8"
      },
      "execution_count": null,
      "outputs": [
        {
          "output_type": "stream",
          "name": "stdout",
          "text": [
            "[[0 1 0 1 0 1 0 1]\n",
            " [1 0 1 0 1 0 1 0]\n",
            " [0 1 0 1 0 1 0 1]\n",
            " [1 0 1 0 1 0 1 0]\n",
            " [0 1 0 1 0 1 0 1]\n",
            " [1 0 1 0 1 0 1 0]\n",
            " [0 1 0 1 0 1 0 1]\n",
            " [1 0 1 0 1 0 1 0]]\n"
          ]
        }
      ]
    },
    {
      "cell_type": "markdown",
      "source": [
        "### 27. np.where condicional  _(médio)_\n",
        "\n",
        "Dado `x = np.arange(-5,6)`, substitua negativos por 0 e mantenha não-negativos."
      ],
      "metadata": {
        "id": "gIIz7PjXD0Vz"
      }
    },
    {
      "cell_type": "code",
      "source": [
        "import numpy as np\n",
        "\n",
        "x = np.arange(-5, 6)\n",
        "print(\"Original array:\", x)\n",
        "\n",
        "# Replace negative values with 0 using np.where\n",
        "x_replaced = np.where(x < 0, 0, x)\n",
        "print(\"Array with negative values replaced by 0:\", x_replaced)"
      ],
      "metadata": {
        "colab": {
          "base_uri": "https://localhost:8080/"
        },
        "id": "ALhN4OOID4wv",
        "outputId": "4894a3e1-bef2-41bc-c05a-70730946adec"
      },
      "execution_count": null,
      "outputs": [
        {
          "output_type": "stream",
          "name": "stdout",
          "text": [
            "Original array: [-5 -4 -3 -2 -1  0  1  2  3  4  5]\n",
            "Array with negative values replaced by 0: [0 0 0 0 0 0 1 2 3 4 5]\n"
          ]
        }
      ]
    },
    {
      "cell_type": "markdown",
      "source": [
        "### 28. Precisão de média  _(médio)_\n",
        "\n",
        "Gere 1_000_000 floats uniformes em [0,1) e compute a média. Compare com o valor teórico 0.5 (erro absoluto)."
      ],
      "metadata": {
        "id": "nymaL201EEii"
      }
    },
    {
      "cell_type": "code",
      "source": [
        "import numpy as np\n",
        "\n",
        "# Generate 1,000,000 random floats in [0, 1)\n",
        "random_floats = np.random.rand(1_000_000)\n",
        "\n",
        "# Compute the mean\n",
        "mean_value = np.mean(random_floats)\n",
        "\n",
        "# Theoretical mean for a uniform distribution in [0, 1) is 0.5\n",
        "theoretical_mean = 0.5\n",
        "\n",
        "# Calculate the absolute error\n",
        "absolute_error = np.abs(mean_value - theoretical_mean)\n",
        "\n",
        "print(\"Generated mean:\", mean_value)\n",
        "print(\"Theoretical mean:\", theoretical_mean)\n",
        "print(\"Absolute error:\", absolute_error)"
      ],
      "metadata": {
        "colab": {
          "base_uri": "https://localhost:8080/"
        },
        "id": "2qAYgX7JEHex",
        "outputId": "c8633cd4-33c5-4ff8-da89-2f6f4e9084b4"
      },
      "execution_count": null,
      "outputs": [
        {
          "output_type": "stream",
          "name": "stdout",
          "text": [
            "Generated mean: 0.5005275461744118\n",
            "Theoretical mean: 0.5\n",
            "Absolute error: 0.0005275461744117527\n"
          ]
        }
      ]
    },
    {
      "cell_type": "markdown",
      "source": [
        "### 29. Produto cartesiano (broadcasting)  _(médio)_\n",
        "\n",
        "Dado `a=[1,2,3]` e `b=[10,20,30,40]`, gere todas as somas possíveis `a_i + b_j` via broadcasting (matriz 3×4)."
      ],
      "metadata": {
        "id": "GILAaOvZEmbn"
      }
    },
    {
      "cell_type": "code",
      "source": [
        "import numpy as np\n",
        "\n",
        "a = np.array([1, 2, 3])\n",
        "b = np.array([10, 20, 30, 40])\n",
        "\n",
        "# Use broadcasting to generate the outer sum matrix\n",
        "outer_sum = a[:, np.newaxis] + b\n",
        "print(outer_sum)"
      ],
      "metadata": {
        "colab": {
          "base_uri": "https://localhost:8080/"
        },
        "id": "rXPhF4LfEoH2",
        "outputId": "748e920a-0a16-43b5-b7fe-c35575bd34a4"
      },
      "execution_count": null,
      "outputs": [
        {
          "output_type": "stream",
          "name": "stdout",
          "text": [
            "[[11 21 31 41]\n",
            " [12 22 32 42]\n",
            " [13 23 33 43]]\n"
          ]
        }
      ]
    },
    {
      "cell_type": "markdown",
      "source": [
        "### 30. Convolução 1D simples  _(médio)_\n",
        "\n",
        "Implemente uma convolução 1D 'valid' de um sinal `s` por um kernel `k` usando `np.flip` e `np.lib.stride_tricks.sliding_window_view` (sem `np.convolve`).\n"
      ],
      "metadata": {
        "id": "QRI_MfRUEvis"
      }
    },
    {
      "cell_type": "code",
      "source": [
        "import numpy as np\n",
        "from numpy.lib.stride_tricks import sliding_window_view\n",
        "\n",
        "# Define a signal and a kernel\n",
        "s = np.array([1, 2, 3, 4, 5, 6])\n",
        "k = np.array([1, 0, -1])\n",
        "\n",
        "# Flip the kernel\n",
        "flipped_k = np.flip(k)\n",
        "\n",
        "# Use sliding_window_view on the signal\n",
        "window_size = len(k)\n",
        "signal_windows = sliding_window_view(s, window_size)\n",
        "\n",
        "# Perform the dot product for convolution\n",
        "convolution_result = np.dot(signal_windows, flipped_k)\n",
        "\n",
        "print(\"Signal:\", s)\n",
        "print(\"Kernel:\", k)\n",
        "print(\"Flipped kernel:\", flipped_k)\n",
        "print(\"Signal windows:\\n\", signal_windows)\n",
        "print(\"Convolution result (valid mode):\", convolution_result)"
      ],
      "metadata": {
        "colab": {
          "base_uri": "https://localhost:8080/"
        },
        "id": "BhA-CNZNE0sW",
        "outputId": "0c56db9c-8fa9-4934-8077-ec495e395af8"
      },
      "execution_count": null,
      "outputs": [
        {
          "output_type": "stream",
          "name": "stdout",
          "text": [
            "Signal: [1 2 3 4 5 6]\n",
            "Kernel: [ 1  0 -1]\n",
            "Flipped kernel: [-1  0  1]\n",
            "Signal windows:\n",
            " [[1 2 3]\n",
            " [2 3 4]\n",
            " [3 4 5]\n",
            " [4 5 6]]\n",
            "Convolution result (valid mode): [2 2 2 2]\n"
          ]
        }
      ]
    },
    {
      "cell_type": "markdown",
      "source": [
        "### 31. Normalização min–max por coluna  _(médio)_\n",
        "\n",
        "Dada `A = rng.normal(size=(5,4))`, normalize cada coluna para o intervalo [0,1], tratando colunas constantes."
      ],
      "metadata": {
        "id": "8I1b6PBcFAoo"
      }
    },
    {
      "cell_type": "code",
      "source": [
        "import numpy as np\n",
        "\n",
        "# Generate a random matrix\n",
        "rng = np.random.default_rng()\n",
        "A = rng.normal(size=(5, 4))\n",
        "print(\"Original matrix:\\n\", A)\n",
        "\n",
        "# Calculate min and max for each column\n",
        "col_min = A.min(axis=0)\n",
        "col_max = A.max(axis=0)\n",
        "\n",
        "# Normalize each column\n",
        "normalized_A = np.zeros_like(A)\n",
        "for i in range(A.shape[1]):\n",
        "    # Handle constant columns\n",
        "    if col_max[i] - col_min[i] == 0:\n",
        "        normalized_A[:, i] = 0  # Or some other appropriate value, e.g., 0.5\n",
        "    else:\n",
        "        normalized_A[:, i] = (A[:, i] - col_min[i]) / (col_max[i] - col_min[i])\n",
        "\n",
        "print(\"\\nNormalized matrix (per column):\\n\", normalized_A)"
      ],
      "metadata": {
        "colab": {
          "base_uri": "https://localhost:8080/"
        },
        "id": "GOyj0s8aFGok",
        "outputId": "3f0fff8b-6197-4522-912d-7e73b3a10b1d"
      },
      "execution_count": null,
      "outputs": [
        {
          "output_type": "stream",
          "name": "stdout",
          "text": [
            "Original matrix:\n",
            " [[-1.37776615  0.15820991 -1.45528334  0.48705987]\n",
            " [ 2.33037609 -1.27578595  1.07769745 -0.76314527]\n",
            " [-0.01713417  0.84611411  0.76126687 -0.69392058]\n",
            " [-1.24999721  0.81138974  1.36029322  2.15034611]\n",
            " [-1.00468725 -0.13009399  0.27486804  0.23411461]]\n",
            "\n",
            "Normalized matrix (per column):\n",
            " [[0.         0.67580745 0.         0.42910892]\n",
            " [1.         0.         0.8996313  0.        ]\n",
            " [0.3669309  1.         0.78724558 0.02376005]\n",
            " [0.03445632 0.98363525 1.         1.        ]\n",
            " [0.10061073 0.53993681 0.61449275 0.34229031]]\n"
          ]
        }
      ]
    },
    {
      "cell_type": "markdown",
      "source": [
        "### 32. Ordenar por coluna  _(médio)_\n",
        "\n",
        "Ordene as linhas de `A = np.array([[3,9],[1,4],[2,5]])` pelo valor crescente da 2ª coluna."
      ],
      "metadata": {
        "id": "CGxkpHeaFNMR"
      }
    },
    {
      "cell_type": "code",
      "source": [
        "import numpy as np\n",
        "\n",
        "A = np.array([[3, 9], [1, 4], [2, 5]])\n",
        "print(\"Original matrix:\\n\", A)\n",
        "\n",
        "# Get the indices that would sort the second column\n",
        "sorted_indices = np.argsort(A[:, 1])\n",
        "\n",
        "# Use the indices to sort the rows of the matrix\n",
        "sorted_A = A[sorted_indices]\n",
        "\n",
        "print(\"\\nMatrix sorted by the second column:\\n\", sorted_A)"
      ],
      "metadata": {
        "colab": {
          "base_uri": "https://localhost:8080/"
        },
        "id": "v7qlUCrNFQMc",
        "outputId": "d9570eb6-4752-4c9a-bcf9-5af4cb1982b8"
      },
      "execution_count": null,
      "outputs": [
        {
          "output_type": "stream",
          "name": "stdout",
          "text": [
            "Original matrix:\n",
            " [[3 9]\n",
            " [1 4]\n",
            " [2 5]]\n",
            "\n",
            "Matrix sorted by the second column:\n",
            " [[1 4]\n",
            " [2 5]\n",
            " [3 9]]\n"
          ]
        }
      ]
    },
    {
      "cell_type": "markdown",
      "source": [
        "### 33. Únicos + contagens + primeira ocorrência  _(médio)_\n",
        "\n",
        "Para `x = [3,1,2,3,2,3,1]`, obtenha valores únicos, contagens e índice da primeira ocorrência de cada valor."
      ],
      "metadata": {
        "id": "cReMBCT_Feiw"
      }
    },
    {
      "cell_type": "code",
      "source": [
        "import numpy as np\n",
        "\n",
        "x = np.array([3, 1, 2, 3, 2, 3, 1])\n",
        "\n",
        "unique_values, first_occurrence_indices, counts = np.unique(x, return_index=True, return_counts=True)\n",
        "\n",
        "print(\"Original array:\", x)\n",
        "print(\"Unique values:\", unique_values)\n",
        "print(\"Indices of first occurrence:\", first_occurrence_indices)\n",
        "print(\"Counts of unique values:\", counts)"
      ],
      "metadata": {
        "colab": {
          "base_uri": "https://localhost:8080/"
        },
        "id": "66YOAoSWFhJJ",
        "outputId": "8e3ec3bb-c6c9-4468-817f-66f1c1fec42e"
      },
      "execution_count": null,
      "outputs": [
        {
          "output_type": "stream",
          "name": "stdout",
          "text": [
            "Original array: [3 1 2 3 2 3 1]\n",
            "Unique values: [1 2 3]\n",
            "Indices of first occurrence: [1 2 0]\n",
            "Counts of unique values: [2 2 3]\n"
          ]
        }
      ]
    },
    {
      "cell_type": "markdown",
      "source": [
        "### 34. Matriz de distâncias 2D  _(médio)_\n",
        "\n",
        "Dada `P` com N pontos 2D, compute a matriz NxN de distâncias euclidianas sem loops explícitos."
      ],
      "metadata": {
        "id": "M4czFScUFpbf"
      }
    },
    {
      "cell_type": "code",
      "source": [
        "import numpy as np\n",
        "\n",
        "# Generate a sample set of N 2D points\n",
        "N = 5\n",
        "P = np.random.rand(N, 2)\n",
        "print(\"Points P:\\n\", P)\n",
        "\n",
        "# Compute the squared Euclidean distances using broadcasting\n",
        "# (x1 - x2)^2 + (y1 - y2)^2\n",
        "diff = P[:, np.newaxis, :] - P[np.newaxis, :, :]\n",
        "squared_distances = np.sum(diff**2, axis=-1)\n",
        "\n",
        "# Take the square root to get the Euclidean distances\n",
        "distance_matrix = np.sqrt(squared_distances)\n",
        "\n",
        "print(\"\\nDistance Matrix (Euclidean):\\n\", distance_matrix)"
      ],
      "metadata": {
        "colab": {
          "base_uri": "https://localhost:8080/"
        },
        "id": "s2xNrnBvFvaL",
        "outputId": "ce2c8e4b-222d-4323-b1e5-1c151904fe24"
      },
      "execution_count": null,
      "outputs": [
        {
          "output_type": "stream",
          "name": "stdout",
          "text": [
            "Points P:\n",
            " [[0.78608507 0.0140674 ]\n",
            " [0.21048745 0.3131449 ]\n",
            " [0.12279963 0.09667728]\n",
            " [0.59505975 0.43165543]\n",
            " [0.70462165 0.18733436]]\n",
            "\n",
            "Distance Matrix (Euclidean):\n",
            " [[0.         0.64866014 0.66841003 0.45920631 0.19146209]\n",
            " [0.64866014 0.         0.23355382 0.40241844 0.50989891]\n",
            " [0.66841003 0.23355382 0.         0.57899912 0.58884256]\n",
            " [0.45920631 0.40241844 0.57899912 0.         0.26776219]\n",
            " [0.19146209 0.50989891 0.58884256 0.26776219 0.        ]]\n"
          ]
        }
      ]
    },
    {
      "cell_type": "markdown",
      "source": [
        "### 35. Covariância e correlação  _(médio)_\n",
        "\n",
        "Simule uma matriz 1000×3 de N(0,1) e compute `cov` (colunas como variáveis) e `corrcoef`."
      ],
      "metadata": {
        "id": "QyALSecQGCrs"
      }
    },
    {
      "cell_type": "code",
      "source": [
        "import numpy as np\n",
        "\n",
        "# Simulate a 1000x3 matrix from a standard normal distribution\n",
        "rng = np.random.default_rng()\n",
        "data = rng.normal(size=(1000, 3))\n",
        "\n",
        "# Compute the covariance matrix (columns as variables)\n",
        "covariance_matrix = np.cov(data, rowvar=False)\n",
        "\n",
        "# Compute the correlation coefficient matrix\n",
        "correlation_matrix = np.corrcoef(data, rowvar=False)\n",
        "\n",
        "print(\"Simulated Data (first 5 rows):\\n\", data[:5])\n",
        "print(\"\\nCovariance Matrix:\\n\", covariance_matrix)\n",
        "print(\"\\nCorrelation Coefficient Matrix:\\n\", correlation_matrix)"
      ],
      "metadata": {
        "colab": {
          "base_uri": "https://localhost:8080/"
        },
        "id": "QZJN74_eGH4U",
        "outputId": "9f7af620-743b-4021-b871-e95a1a8c1c02"
      },
      "execution_count": null,
      "outputs": [
        {
          "output_type": "stream",
          "name": "stdout",
          "text": [
            "Simulated Data (first 5 rows):\n",
            " [[-0.03384217 -1.74168278 -0.25967987]\n",
            " [-0.40101652  0.70789053  1.096129  ]\n",
            " [-0.00773103  0.36104093 -0.96745353]\n",
            " [ 0.19816343  0.25416496 -2.07844223]\n",
            " [ 0.70837479  0.9459753   0.06755121]]\n",
            "\n",
            "Covariance Matrix:\n",
            " [[ 1.02459111 -0.00885461  0.02980782]\n",
            " [-0.00885461  0.93542239 -0.0103168 ]\n",
            " [ 0.02980782 -0.0103168   0.99643519]]\n",
            "\n",
            "Correlation Coefficient Matrix:\n",
            " [[ 1.         -0.00904462  0.02950057]\n",
            " [-0.00904462  1.         -0.01068603]\n",
            " [ 0.02950057 -0.01068603  1.        ]]\n"
          ]
        }
      ]
    },
    {
      "cell_type": "markdown",
      "source": [
        "### 36. One-hot encoding  _(médio)_\n",
        "\n",
        "Converta os rótulos `y = [2,0,1,2]` em codificação one-hot usando apenas operações NumPy."
      ],
      "metadata": {
        "id": "mE8QhuwEGPjB"
      }
    },
    {
      "cell_type": "code",
      "source": [
        "import numpy as np\n",
        "\n",
        "y = np.array([2, 0, 1, 2])\n",
        "\n",
        "# Determine the number of classes (maximum value + 1)\n",
        "num_classes = np.max(y) + 1\n",
        "\n",
        "# Create a zero array with shape (number of samples, number of classes)\n",
        "one_hot_encoded = np.zeros((len(y), num_classes), dtype=int)\n",
        "\n",
        "# Set the appropriate elements to 1 using advanced indexing\n",
        "one_hot_encoded[np.arange(len(y)), y] = 1\n",
        "\n",
        "print(\"Original labels:\", y)\n",
        "print(\"One-hot encoded labels:\\n\", one_hot_encoded)"
      ],
      "metadata": {
        "colab": {
          "base_uri": "https://localhost:8080/"
        },
        "id": "OeN9MntiGTqh",
        "outputId": "c5bd07d6-2e25-45bd-b4cb-d860dcbc1906"
      },
      "execution_count": null,
      "outputs": [
        {
          "output_type": "stream",
          "name": "stdout",
          "text": [
            "Original labels: [2 0 1 2]\n",
            "One-hot encoded labels:\n",
            " [[0 0 1]\n",
            " [1 0 0]\n",
            " [0 1 0]\n",
            " [0 0 1]]\n"
          ]
        }
      ]
    },
    {
      "cell_type": "markdown",
      "source": [
        "## Difíceis (6)"
      ],
      "metadata": {
        "id": "VelByh27Gjet"
      }
    },
    {
      "cell_type": "markdown",
      "source": [
        "### 37. k-means 2D (NumPy puro)  _(difícil)_\n",
        "\n",
        "Implemente k-means com K=3 em pontos 2D: inicialize centróides aleatórios, faça 10 iterações de (1) atribuir pontos ao centróide mais próximo e (2) recomputar centróides."
      ],
      "metadata": {
        "id": "upsxP0U7GkwC"
      }
    },
    {
      "cell_type": "code",
      "source": [
        "import numpy as np\n",
        "\n",
        "# Generate some sample 2D data\n",
        "rng = np.random.default_rng(42)\n",
        "data = rng.random((100, 2))\n",
        "\n",
        "# Number of clusters\n",
        "K = 3\n",
        "# Number of iterations\n",
        "n_iterations = 10\n",
        "\n",
        "# Initialize centroids randomly\n",
        "# We select K random data points as initial centroids\n",
        "centroids = data[rng.choice(data.shape[0], K, replace=False)]\n",
        "\n",
        "print(\"Initial centroids:\\n\", centroids)\n",
        "\n",
        "for i in range(n_iterations):\n",
        "    # Step 1: Assign points to the nearest centroid\n",
        "    # Calculate distances from each point to each centroid\n",
        "    # Shape will be (n_points, K)\n",
        "    distances = np.sqrt(np.sum((data[:, np.newaxis, :] - centroids[np.newaxis, :, :])**2, axis=2))\n",
        "\n",
        "    # Assign each point to the centroid with the minimum distance\n",
        "    cluster_assignments = np.argmin(distances, axis=1)\n",
        "\n",
        "    # Step 2: Recompute centroids\n",
        "    # For each cluster, compute the mean of the points assigned to it\n",
        "    new_centroids = np.array([data[cluster_assignments == k].mean(axis=0) for k in range(K)])\n",
        "\n",
        "    # Check for convergence (optional, but good practice)\n",
        "    # if np.allclose(new_centroids, centroids):\n",
        "    #     print(f\"Converged after {i+1} iterations\")\n",
        "    #     break\n",
        "\n",
        "    centroids = new_centroids\n",
        "\n",
        "print(\"\\nFinal centroids after\", n_iterations, \"iterations:\\n\", centroids)\n",
        "\n",
        "# To visualize the results (optional)\n",
        "# import matplotlib.pyplot as plt\n",
        "# plt.scatter(data[:, 0], data[:, 1], c=cluster_assignments, cmap='viridis')\n",
        "# plt.scatter(centroids[:, 0], centroids[:, 1], marker='x', color='red', s=200)\n",
        "# plt.title(f'K-Means Clustering after {n_iterations} iterations')\n",
        "# plt.xlabel('X')\n",
        "# plt.ylabel('Y')\n",
        "# plt.show()"
      ],
      "metadata": {
        "colab": {
          "base_uri": "https://localhost:8080/"
        },
        "id": "MaJGIjSZGp48",
        "outputId": "7b9e3512-7064-4655-9c78-ad60b7b047da"
      },
      "execution_count": null,
      "outputs": [
        {
          "output_type": "stream",
          "name": "stdout",
          "text": [
            "Initial centroids:\n",
            " [[0.14024909 0.55403614]\n",
            " [0.15328432 0.17926831]\n",
            " [0.63471832 0.5535794 ]]\n",
            "\n",
            "Final centroids after 10 iterations:\n",
            " [[0.21590466 0.69961248]\n",
            " [0.45118606 0.19895016]\n",
            " [0.770169   0.67794585]]\n"
          ]
        }
      ]
    },
    {
      "cell_type": "markdown",
      "source": [
        "### 38. PCA básica (autovetores)  _(difícil)_\n",
        "\n",
        "Implemente PCA 2D→1D: centralize `X` (N×2), calcule covariância, autovetores, projete em 1D e reconstrua aproximado."
      ],
      "metadata": {
        "id": "6uVMOn-uGxNW"
      }
    },
    {
      "cell_type": "code",
      "source": [
        "import numpy as np\n",
        "\n",
        "# Generate some sample 2D data\n",
        "rng = np.random.default_rng(42)\n",
        "X = rng.multivariate_normal([0, 0], [[1, 0.5], [0.5, 1]], 100)\n",
        "print(\"Original data (X):\\n\", X[:5])\n",
        "\n",
        "# 1. Center the data\n",
        "mean = np.mean(X, axis=0)\n",
        "X_centered = X - mean\n",
        "print(\"\\nCentered data (X_centered):\\n\", X_centered[:5])\n",
        "\n",
        "# 2. Calculate the covariance matrix\n",
        "covariance_matrix = np.cov(X_centered, rowvar=False)\n",
        "print(\"\\nCovariance matrix:\\n\", covariance_matrix)\n",
        "\n",
        "# 3. Calculate eigenvectors and eigenvalues\n",
        "eigenvalues, eigenvectors = np.linalg.eig(covariance_matrix)\n",
        "print(\"\\nEigenvalues:\", eigenvalues)\n",
        "print(\"Eigenvectors:\\n\", eigenvectors)\n",
        "\n",
        "# Sort eigenvalues and eigenvectors in descending order\n",
        "sorted_indices = np.argsort(eigenvalues)[::-1]\n",
        "sorted_eigenvalues = eigenvalues[sorted_indices]\n",
        "sorted_eigenvectors = eigenvectors[:, sorted_indices]\n",
        "\n",
        "# Select the principal component (the eigenvector with the largest eigenvalue)\n",
        "principal_component = sorted_eigenvectors[:, 0]\n",
        "print(\"\\nPrincipal Component:\", principal_component)\n",
        "\n",
        "\n",
        "# 4. Project data onto 1D\n",
        "# The projected data is the dot product of the centered data and the principal component\n",
        "X_projected = np.dot(X_centered, principal_component)\n",
        "print(\"\\nProjected data (1D):\\n\", X_projected[:5])\n",
        "\n",
        "# 5. Reconstruct approximate data (optional)\n",
        "# To reconstruct, multiply the projected data by the principal component and add back the mean\n",
        "X_reconstructed = np.outer(X_projected, principal_component) + mean\n",
        "print(\"\\nReconstructed data (approximate):\\n\", X_reconstructed[:5])"
      ],
      "metadata": {
        "colab": {
          "base_uri": "https://localhost:8080/"
        },
        "id": "HbHVWvtEG2GE",
        "outputId": "f368cbe5-7876-4246-ab3a-aed29a7189eb"
      },
      "execution_count": null,
      "outputs": [
        {
          "output_type": "stream",
          "name": "stdout",
          "text": [
            "Original data (X):\n",
            " [[ 0.25609932 -0.78388479]\n",
            " [-1.12019216 -0.17962744]\n",
            " [ 2.34073579  1.03855628]\n",
            " [ 0.04740826 -0.26883433]\n",
            " [ 0.44107219 -0.41197173]]\n",
            "\n",
            "Centered data (X_centered):\n",
            " [[ 0.22025111 -0.77357775]\n",
            " [-1.15604037 -0.1693204 ]\n",
            " [ 2.30488758  1.04886332]\n",
            " [ 0.01156005 -0.2585273 ]\n",
            " [ 0.40522398 -0.4016647 ]]\n",
            "\n",
            "Covariance matrix:\n",
            " [[0.91333121 0.4418674 ]\n",
            " [0.4418674  0.70076354]]\n",
            "\n",
            "Eigenvalues: [1.26151745 0.35257729]\n",
            "Eigenvectors:\n",
            " [[ 0.78544994 -0.61892519]\n",
            " [ 0.61892519  0.78544994]]\n",
            "\n",
            "Principal Component: [0.78544994 0.61892519]\n",
            "\n",
            "Projected data (1D):\n",
            " [-0.30579053 -1.0128085   2.45954174 -0.15092922  0.06968275]\n",
            "\n",
            "Reconstructed data (approximate):\n",
            " [[-0.20433495 -0.1995685 ]\n",
            " [-0.75966217 -0.63715973]\n",
            " [ 1.96769513  1.5119653 ]\n",
            " [-0.08269913 -0.10372093]\n",
            " [ 0.09058053  0.03282138]]\n"
          ]
        }
      ]
    },
    {
      "cell_type": "markdown",
      "source": [
        "### 39. Convolução 2D (im2col)  _(difícil)_\n",
        "\n",
        "Implemente convolução 2D 'valid' de uma imagem `I` por um kernel `K` usando `sliding_window_view` para gerar blocos e multiplicação matricial."
      ],
      "metadata": {
        "id": "FZ11TCbWG8-2"
      }
    },
    {
      "cell_type": "code",
      "source": [
        "import numpy as np\n",
        "from numpy.lib.stride_tricks import sliding_window_view\n",
        "\n",
        "# Create a sample image and kernel\n",
        "I = np.array([[1, 2, 3, 4],\n",
        "              [5, 6, 7, 8],\n",
        "              [9, 10, 11, 12],\n",
        "              [13, 14, 15, 16]])\n",
        "\n",
        "K = np.array([[1, 0],\n",
        "              [0, -1]])\n",
        "\n",
        "print(\"Image I:\\n\", I)\n",
        "print(\"\\nKernel K:\\n\", K)\n",
        "\n",
        "# Get the shape of the kernel\n",
        "kernel_height, kernel_width = K.shape\n",
        "\n",
        "# Use sliding_window_view to create overlapping blocks of the image\n",
        "# The shape of the windows will be (img_height - kernel_height + 1, img_width - kernel_width + 1, kernel_height, kernel_width)\n",
        "image_windows = sliding_window_view(I, (kernel_height, kernel_width))\n",
        "print(\"\\nImage windows shape:\", image_windows.shape)\n",
        "\n",
        "# Reshape the kernel to a 1D array\n",
        "kernel_flat = K.ravel()\n",
        "print(\"\\nFlattened kernel:\", kernel_flat)\n",
        "\n",
        "# Reshape the image windows for matrix multiplication\n",
        "# The shape will be (number of windows, kernel_height * kernel_width)\n",
        "image_windows_flat = image_windows.reshape(-1, kernel_height * kernel_width)\n",
        "print(\"\\nFlattened image windows shape:\", image_windows_flat.shape)\n",
        "\n",
        "# Perform matrix multiplication and sum across the last axis\n",
        "# This is equivalent to the dot product between each window and the flattened kernel\n",
        "convolution_result_flat = np.dot(image_windows_flat, kernel_flat)\n",
        "\n",
        "# Reshape the result back to the shape of the output convolution\n",
        "output_height = I.shape[0] - kernel_height + 1\n",
        "output_width = I.shape[1] - kernel_width + 1\n",
        "convolution_result = convolution_result_flat.reshape(output_height, output_width)\n",
        "\n",
        "print(\"\\nConvolution result (valid mode):\\n\", convolution_result)"
      ],
      "metadata": {
        "colab": {
          "base_uri": "https://localhost:8080/"
        },
        "id": "4Be1bR1uHDUS",
        "outputId": "68259211-c88e-491a-f32d-b88d49c1d553"
      },
      "execution_count": null,
      "outputs": [
        {
          "output_type": "stream",
          "name": "stdout",
          "text": [
            "Image I:\n",
            " [[ 1  2  3  4]\n",
            " [ 5  6  7  8]\n",
            " [ 9 10 11 12]\n",
            " [13 14 15 16]]\n",
            "\n",
            "Kernel K:\n",
            " [[ 1  0]\n",
            " [ 0 -1]]\n",
            "\n",
            "Image windows shape: (3, 3, 2, 2)\n",
            "\n",
            "Flattened kernel: [ 1  0  0 -1]\n",
            "\n",
            "Flattened image windows shape: (9, 4)\n",
            "\n",
            "Convolution result (valid mode):\n",
            " [[-5 -5 -5]\n",
            " [-5 -5 -5]\n",
            " [-5 -5 -5]]\n"
          ]
        }
      ]
    },
    {
      "cell_type": "markdown",
      "source": [
        "### 40. Sistemas lineares e resíduo  _(difícil)_\n",
        "\n",
        "Gere uma matriz A (100×100) bem-condicionada, um vetor b e resolva `Ax=b` com `np.linalg.solve`. Compute o resíduo relativo `||Ax−b||/||b||` e `cond(A)`.\n"
      ],
      "metadata": {
        "id": "37i4Ifz7HPJR"
      }
    },
    {
      "cell_type": "code",
      "source": [
        "import numpy as np\n",
        "\n",
        "# Generate a well-conditioned random matrix A (100x100)\n",
        "# We can create a diagonally dominant matrix or use SVD to construct one with controlled singular values\n",
        "# A simple way to get a reasonably well-conditioned matrix is to use random values\n",
        "# and ensure it's not singular (e.g., by adding a small identity matrix or checking condition number)\n",
        "# For this exercise, let's generate a random matrix and check its condition number.\n",
        "N = 100\n",
        "rng = np.random.default_rng(42)\n",
        "A = rng.random((N, N))\n",
        "\n",
        "# Add a small value to the diagonal to help with conditioning if needed, or regenerate if condition number is too high\n",
        "# A = A + np.eye(N) * 0.1\n",
        "\n",
        "# Generate a random vector b\n",
        "b = rng.random(N)\n",
        "\n",
        "# Solve the linear system Ax = b for x\n",
        "# np.linalg.solve is preferred over np.linalg.inv(A) @ b for numerical stability\n",
        "x = np.linalg.solve(A, b)\n",
        "\n",
        "# Compute the residual: r = Ax - b\n",
        "residual = A @ x - b\n",
        "\n",
        "# Compute the relative residual: ||Ax - b|| / ||b||\n",
        "relative_residual = np.linalg.norm(residual) / np.linalg.norm(b)\n",
        "\n",
        "# Compute the condition number of A\n",
        "condition_number = np.linalg.cond(A)\n",
        "\n",
        "print(\"Shape of A:\", A.shape)\n",
        "print(\"Shape of b:\", b.shape)\n",
        "print(\"Shape of x:\", x.shape)\n",
        "print(\"\\nRelative Residual ||Ax - b|| / ||b||:\", relative_residual)\n",
        "print(\"Condition Number of A:\", condition_number)"
      ],
      "metadata": {
        "colab": {
          "base_uri": "https://localhost:8080/"
        },
        "id": "Mwe3ZPBvHT18",
        "outputId": "4e0df4a1-dddc-44bf-9d6e-1c0fb4a97543"
      },
      "execution_count": null,
      "outputs": [
        {
          "output_type": "stream",
          "name": "stdout",
          "text": [
            "Shape of A: (100, 100)\n",
            "Shape of b: (100,)\n",
            "Shape of x: (100,)\n",
            "\n",
            "Relative Residual ||Ax - b|| / ||b||: 1.0515603222857376e-14\n",
            "Condition Number of A: 5283.8197312832835\n"
          ]
        }
      ]
    },
    {
      "cell_type": "markdown",
      "source": [
        "### 41. Regressão linear (OLS) com NumPy  _(difícil)_\n",
        "\n",
        "Dado `X` (N×d) e `y`, calcule os coeficientes OLS usando `np.linalg.lstsq` e avalie RMSE no treino."
      ],
      "metadata": {
        "id": "3dw9ixgkHamS"
      }
    },
    {
      "cell_type": "code",
      "source": [
        "import numpy as np\n",
        "\n",
        "# Generate some sample data for linear regression\n",
        "# X is the feature matrix (N samples x d features)\n",
        "# y is the target vector (N samples)\n",
        "N = 100\n",
        "d = 1\n",
        "rng = np.random.default_rng(42)\n",
        "X = 2 * rng.random((N, d))\n",
        "y = 1 + 2 * X + rng.normal(0, 0.5, (N, d)) # y = 1 + 2*x + noise\n",
        "\n",
        "# Add a column of ones to X for the intercept term\n",
        "X_b = np.c_[np.ones((N, 1)), X]\n",
        "\n",
        "# Calculate the OLS coefficients using np.linalg.lstsq\n",
        "# The output is (coefficients, residuals, rank, singular_values)\n",
        "coefficients, residuals, rank, s = np.linalg.lstsq(X_b, y, rcond=None)\n",
        "\n",
        "print(\"OLS Coefficients (including intercept):\\n\", coefficients)\n",
        "\n",
        "# Make predictions on the training data\n",
        "y_pred = X_b @ coefficients\n",
        "\n",
        "# Calculate the Root Mean Squared Error (RMSE) on the training data\n",
        "# If residuals is not empty, use residuals; otherwise, calculate manually\n",
        "if residuals.size > 0:\n",
        "    rmse = np.sqrt(residuals[0] / N)\n",
        "else:\n",
        "    rmse = np.sqrt(np.mean((y_pred - y)**2))\n",
        "\n",
        "print(\"\\nRMSE on training data:\", rmse)"
      ],
      "metadata": {
        "colab": {
          "base_uri": "https://localhost:8080/"
        },
        "id": "EE_f1k9cHcsZ",
        "outputId": "92a8ef5e-4c90-4baa-f9e2-2142856e44ae"
      },
      "execution_count": null,
      "outputs": [
        {
          "output_type": "stream",
          "name": "stdout",
          "text": [
            "OLS Coefficients (including intercept):\n",
            " [[0.97434986]\n",
            " [2.0191574 ]]\n",
            "\n",
            "RMSE on training data: 0.48960800301076113\n"
          ]
        }
      ]
    },
    {
      "cell_type": "markdown",
      "source": [
        "### 42. Rolling window 2D com strides  _(difícil)_\n",
        "\n",
        "Usando `sliding_window_view`, compute a média local 3×3 de uma imagem 2D sem laços explícitos.\n"
      ],
      "metadata": {
        "id": "95jFIn5fHlYW"
      }
    },
    {
      "cell_type": "code",
      "source": [
        "import numpy as np\n",
        "from numpy.lib.stride_tricks import sliding_window_view\n",
        "\n",
        "# Create a sample 2D image\n",
        "image = np.arange(25).reshape(5, 5)\n",
        "print(\"Original Image:\\n\", image)\n",
        "\n",
        "# Define the window size\n",
        "window_size = (3, 3)\n",
        "\n",
        "# Use sliding_window_view to create overlapping windows\n",
        "image_windows = sliding_window_view(image, window_size)\n",
        "print(\"\\nImage windows shape:\", image_windows.shape)\n",
        "\n",
        "# Compute the mean of each window\n",
        "local_means = np.mean(image_windows, axis=(-2, -1))\n",
        "\n",
        "print(\"\\nLocal 3x3 Means:\\n\", local_means)"
      ],
      "metadata": {
        "colab": {
          "base_uri": "https://localhost:8080/"
        },
        "id": "g85t7ZiLHnXY",
        "outputId": "e149a429-3864-4ab9-f436-55fafc57184e"
      },
      "execution_count": null,
      "outputs": [
        {
          "output_type": "stream",
          "name": "stdout",
          "text": [
            "Original Image:\n",
            " [[ 0  1  2  3  4]\n",
            " [ 5  6  7  8  9]\n",
            " [10 11 12 13 14]\n",
            " [15 16 17 18 19]\n",
            " [20 21 22 23 24]]\n",
            "\n",
            "Image windows shape: (3, 3, 3, 3)\n",
            "\n",
            "Local 3x3 Means:\n",
            " [[ 6.  7.  8.]\n",
            " [11. 12. 13.]\n",
            " [16. 17. 18.]]\n"
          ]
        }
      ]
    }
  ]
}